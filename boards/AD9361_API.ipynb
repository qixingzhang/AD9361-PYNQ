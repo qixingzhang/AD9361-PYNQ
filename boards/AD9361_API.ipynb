{
 "cells": [
  {
   "cell_type": "code",
   "execution_count": null,
   "id": "677705df",
   "metadata": {},
   "outputs": [],
   "source": [
    "from ad9361 import *"
   ]
  },
  {
   "cell_type": "code",
   "execution_count": null,
   "id": "0ddf0cc3",
   "metadata": {},
   "outputs": [],
   "source": [
    "adc = AD9361()"
   ]
  },
  {
   "cell_type": "markdown",
   "id": "ee30f344",
   "metadata": {},
   "source": [
    "### Get Enable State Machine (ENSM) mode"
   ]
  },
  {
   "cell_type": "code",
   "execution_count": null,
   "id": "602f13b8",
   "metadata": {},
   "outputs": [],
   "source": [
    "mode = adc.get_en_state_machine_mode()\n",
    "print(mode)"
   ]
  },
  {
   "cell_type": "markdown",
   "id": "a5aa918b",
   "metadata": {},
   "source": [
    "### Set Enable State Machine (ENSM) mode"
   ]
  },
  {
   "cell_type": "code",
   "execution_count": null,
   "id": "d1a3c6ff",
   "metadata": {},
   "outputs": [],
   "source": [
    "mode = 2\n",
    "adc.set_en_state_machine_mode(mode)"
   ]
  },
  {
   "cell_type": "markdown",
   "id": "1253fd83",
   "metadata": {},
   "source": [
    "### Get current receive RF gain for the selected channel"
   ]
  },
  {
   "cell_type": "code",
   "execution_count": null,
   "id": "9c7b4b27",
   "metadata": {},
   "outputs": [],
   "source": [
    "channel = 0\n",
    "gain_db = adc.get_rx_rf_gain(channel)\n",
    "print(gain_db)"
   ]
  },
  {
   "cell_type": "markdown",
   "id": "8e6c6c8c",
   "metadata": {},
   "source": [
    "### Set the receive RF gain for the selected channel"
   ]
  },
  {
   "cell_type": "code",
   "execution_count": null,
   "id": "5573721d",
   "metadata": {},
   "outputs": [],
   "source": [
    "channel = 0\n",
    "gain_db = 7\n",
    "adc.set_rx_rf_gain(channel, gain_db)"
   ]
  },
  {
   "cell_type": "markdown",
   "id": "9f09435f",
   "metadata": {},
   "source": [
    "### Get the RX RF bandwidth"
   ]
  },
  {
   "cell_type": "code",
   "execution_count": null,
   "id": "f5aec6cf",
   "metadata": {},
   "outputs": [],
   "source": [
    "bandwidth_hz = adc.get_rx_rf_bandwidth()\n",
    "print(bandwidth_hz)"
   ]
  },
  {
   "cell_type": "markdown",
   "id": "1a359561",
   "metadata": {},
   "source": [
    "### Set the RX RF bandwidth"
   ]
  },
  {
   "cell_type": "code",
   "execution_count": null,
   "id": "8e5fdcb3",
   "metadata": {},
   "outputs": [],
   "source": [
    "bandwidth_hz = 4000000\n",
    "adc.set_rx_rf_bandwidth(bandwidth_hz)"
   ]
  },
  {
   "cell_type": "markdown",
   "id": "f01f36bd",
   "metadata": {},
   "source": [
    "### Get current RX sampling frequency"
   ]
  },
  {
   "cell_type": "code",
   "execution_count": null,
   "id": "747d3a2e",
   "metadata": {},
   "outputs": [],
   "source": [
    "sampling_freq_hz = adc.get_rx_sampling_freq()\n",
    "print(sampling_freq_hz)"
   ]
  },
  {
   "cell_type": "markdown",
   "id": "17a24170",
   "metadata": {},
   "source": [
    "### Set the RX sampling frequency"
   ]
  },
  {
   "cell_type": "code",
   "execution_count": null,
   "id": "66035ed8",
   "metadata": {},
   "outputs": [],
   "source": [
    "sampling_freq_hz = 30000000\n",
    "adc.set_rx_sampling_freq(sampling_freq_hz)"
   ]
  },
  {
   "cell_type": "markdown",
   "id": "94e586ed",
   "metadata": {},
   "source": [
    "### Get current RX LO frequency"
   ]
  },
  {
   "cell_type": "code",
   "execution_count": null,
   "id": "0e5a1a17",
   "metadata": {},
   "outputs": [],
   "source": [
    "lo_freq_hz = adc.get_rx_lo_freq()\n",
    "print(lo_freq_hz)"
   ]
  },
  {
   "cell_type": "markdown",
   "id": "c0f10c28",
   "metadata": {},
   "source": [
    "### Set the RX LO frequency"
   ]
  },
  {
   "cell_type": "code",
   "execution_count": null,
   "id": "a227874c",
   "metadata": {},
   "outputs": [],
   "source": [
    "lo_freq_hz = 1400000000\n",
    "adc.set_rx_lo_freq(lo_freq_hz)"
   ]
  },
  {
   "cell_type": "markdown",
   "id": "81bbe175",
   "metadata": {},
   "source": [
    "### Switch between internal and external LO"
   ]
  },
  {
   "cell_type": "code",
   "execution_count": null,
   "id": "f0a9d392",
   "metadata": {},
   "outputs": [],
   "source": [
    "INT_LO = 0\n",
    "EXI_LO = 1\n",
    "adc.set_rx_lo_int_ext(INT_LO)"
   ]
  },
  {
   "cell_type": "markdown",
   "id": "bb82cb94",
   "metadata": {},
   "source": [
    "### Get the RSSI for the selected channel"
   ]
  },
  {
   "cell_type": "code",
   "execution_count": null,
   "id": "de0d53bd",
   "metadata": {},
   "outputs": [],
   "source": [
    "channel = 0\n",
    "rssi = adc.get_rx_rssi(channel)\n",
    "rssi.print()"
   ]
  },
  {
   "cell_type": "markdown",
   "id": "6b5eff08",
   "metadata": {},
   "source": [
    "### Get the gain control mode for the selected channel"
   ]
  },
  {
   "cell_type": "code",
   "execution_count": null,
   "id": "9a67a4a6",
   "metadata": {},
   "outputs": [],
   "source": [
    "channel = 0\n",
    "mode = adc.get_rx_gain_control_mode(channel)\n",
    "print(mode)"
   ]
  },
  {
   "cell_type": "markdown",
   "id": "6de5918b",
   "metadata": {},
   "source": [
    "### Set the gain control mode for the selected channel"
   ]
  },
  {
   "cell_type": "code",
   "execution_count": null,
   "id": "c61cd05b",
   "metadata": {},
   "outputs": [],
   "source": [
    "channel = 0\n",
    "mode = 1\n",
    "adc.set_rx_gain_control_mode(channel, mode)"
   ]
  },
  {
   "cell_type": "markdown",
   "id": "2c94da82",
   "metadata": {},
   "source": [
    "### Get the RX FIR filter configuration"
   ]
  },
  {
   "cell_type": "code",
   "execution_count": null,
   "id": "aa1edbf9",
   "metadata": {},
   "outputs": [],
   "source": [
    "channel = 0\n",
    "fir_config = adc.get_rx_fir_config(channel)\n",
    "fir_config.print()"
   ]
  },
  {
   "cell_type": "markdown",
   "id": "0a27258f",
   "metadata": {},
   "source": [
    "### Set the RX FIR filter configuration"
   ]
  },
  {
   "cell_type": "code",
   "execution_count": null,
   "id": "727d6543",
   "metadata": {},
   "outputs": [],
   "source": [
    "fir_config_new = RXFIRConfig()\n",
    "fir_config_new.rx = 1\n",
    "fir_config_new.rx_gain = -6\n",
    "fir_config_new.rx_dec = 1\n",
    "fir_config_new.rx_coef = fir_config.rx_coef\n",
    "fir_config_new.rx_coef_size = fir_config.rx_coef_size\n",
    "fir_config_new.rx_path_clks = fir_config.rx_path_clks\n",
    "fir_config_new.rx_bandwidth = fir_config.rx_bandwidth\n",
    "fir_config_new.print()\n",
    "adc.set_rx_fir_config(fir_config_new)"
   ]
  },
  {
   "cell_type": "markdown",
   "id": "8d207eca",
   "metadata": {},
   "source": [
    "### Get the status of the TX FIR filter"
   ]
  },
  {
   "cell_type": "code",
   "execution_count": null,
   "id": "6e3c3f8c",
   "metadata": {},
   "outputs": [],
   "source": [
    "en_dis = adc.get_tx_fir_en_dis()\n",
    "print(en_dis)"
   ]
  },
  {
   "cell_type": "markdown",
   "id": "c7623036",
   "metadata": {},
   "source": [
    "### Enable/Disable the TX FIR filter"
   ]
  },
  {
   "cell_type": "code",
   "execution_count": null,
   "id": "dee62755",
   "metadata": {},
   "outputs": [],
   "source": [
    "en_dis = 1\n",
    "adc.set_tx_fir_en_dis(en_dis)"
   ]
  },
  {
   "cell_type": "markdown",
   "id": "4131f30b",
   "metadata": {},
   "source": [
    "### Get the TX RSSI for the selected channel"
   ]
  },
  {
   "cell_type": "code",
   "execution_count": null,
   "id": "9151395a",
   "metadata": {},
   "outputs": [],
   "source": [
    "channel = 0\n",
    "rssi_db_x_1000 = adc.get_tx_rssi(channel)\n",
    "print(rssi_db_x_1000)"
   ]
  },
  {
   "cell_type": "markdown",
   "id": "f8cf83d0",
   "metadata": {},
   "source": [
    "### Get the selected TX RF output port"
   ]
  },
  {
   "cell_type": "code",
   "execution_count": null,
   "id": "7d2a7b6d",
   "metadata": {},
   "outputs": [],
   "source": [
    "mode = adc.get_tx_rf_port_output()\n",
    "print(mode)"
   ]
  },
  {
   "cell_type": "markdown",
   "id": "74a7e02c",
   "metadata": {},
   "source": [
    "### Set the TX RF output port"
   ]
  },
  {
   "cell_type": "code",
   "execution_count": null,
   "id": "8b3d3188",
   "metadata": {},
   "outputs": [],
   "source": [
    "mode = 1\n",
    "adc.set_tx_rf_port_output(mode)"
   ]
  },
  {
   "cell_type": "markdown",
   "id": "66d1eb8a",
   "metadata": {},
   "source": [
    "### Get the status of the auto calibration flag"
   ]
  },
  {
   "cell_type": "code",
   "execution_count": null,
   "id": "6db8c8d6",
   "metadata": {},
   "outputs": [],
   "source": [
    "en_dis = adc.get_tx_auto_cal_en_dis()\n",
    "print(en_dis)"
   ]
  },
  {
   "cell_type": "markdown",
   "id": "0c00eda8",
   "metadata": {},
   "source": [
    "### Enable/disable the auto calibration"
   ]
  },
  {
   "cell_type": "code",
   "execution_count": null,
   "id": "8f158bf9",
   "metadata": {},
   "outputs": [],
   "source": [
    "en_dis = 0\n",
    "adc.set_tx_auto_cal_en_dis(en_dis)"
   ]
  },
  {
   "cell_type": "markdown",
   "id": "9f331a81",
   "metadata": {},
   "source": [
    "### Store TX fastlock profile"
   ]
  },
  {
   "cell_type": "code",
   "execution_count": null,
   "id": "c146c26b",
   "metadata": {},
   "outputs": [],
   "source": [
    "profile = 0\n",
    "adc.tx_fastlock_store(0)"
   ]
  },
  {
   "cell_type": "markdown",
   "id": "1b4c10fd",
   "metadata": {},
   "source": [
    "### Recall TX fastlock profile"
   ]
  },
  {
   "cell_type": "code",
   "execution_count": null,
   "id": "3bb80791",
   "metadata": {},
   "outputs": [],
   "source": [
    "profile = 0\n",
    "adc.tx_fastlock_recall(0)"
   ]
  },
  {
   "cell_type": "markdown",
   "id": "6c8a8143",
   "metadata": {},
   "source": [
    "### Load RX fastlock profile"
   ]
  },
  {
   "cell_type": "code",
   "execution_count": null,
   "id": "0cc726e1",
   "metadata": {},
   "outputs": [],
   "source": [
    "profile = 0\n",
    "values = [0, 1, 2, 3, 4, 5, 6, 7, 8, 9, 10, 11, 12, 13, 14, 15]\n",
    "adc.rx_fastlock_load(profile, values)"
   ]
  },
  {
   "cell_type": "markdown",
   "id": "aed93838",
   "metadata": {},
   "source": [
    "### Save RX fastlock profile"
   ]
  },
  {
   "cell_type": "code",
   "execution_count": null,
   "id": "485eb1a3",
   "metadata": {},
   "outputs": [],
   "source": [
    "profile = 0\n",
    "values = adc.rx_fastlock_save(profile)\n",
    "print(values)"
   ]
  },
  {
   "cell_type": "markdown",
   "id": "7e8b7a16",
   "metadata": {},
   "source": [
    "### Get power down TX LO/Synthesizers"
   ]
  },
  {
   "cell_type": "code",
   "execution_count": null,
   "id": "b641cbb3",
   "metadata": {},
   "outputs": [],
   "source": [
    "pd = adc.get_rx_lo_powerdown()\n",
    "print(pd)"
   ]
  },
  {
   "cell_type": "markdown",
   "id": "ad6e4b35",
   "metadata": {},
   "source": [
    "### Set power down TX LO/Synthesizers"
   ]
  },
  {
   "cell_type": "code",
   "execution_count": null,
   "id": "ecd901ae",
   "metadata": {},
   "outputs": [],
   "source": [
    "pd = 1\n",
    "adc.set_rx_lo_powerdown(pd)"
   ]
  },
  {
   "cell_type": "code",
   "execution_count": null,
   "id": "8475c3cb",
   "metadata": {},
   "outputs": [],
   "source": []
  }
 ],
 "metadata": {
  "kernelspec": {
   "display_name": "Python 3",
   "language": "python",
   "name": "python3"
  },
  "language_info": {
   "codemirror_mode": {
    "name": "ipython",
    "version": 3
   },
   "file_extension": ".py",
   "mimetype": "text/x-python",
   "name": "python",
   "nbconvert_exporter": "python",
   "pygments_lexer": "ipython3",
   "version": "3.8.2"
  }
 },
 "nbformat": 4,
 "nbformat_minor": 5
}
