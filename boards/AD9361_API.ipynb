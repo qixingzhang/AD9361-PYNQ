{
 "cells": [
  {
   "cell_type": "code",
   "execution_count": null,
   "id": "677705df",
   "metadata": {},
   "outputs": [],
   "source": [
    "from ad9361 import *"
   ]
  },
  {
   "cell_type": "code",
   "execution_count": null,
   "id": "0ddf0cc3",
   "metadata": {},
   "outputs": [],
   "source": [
    "adc = AD9361()"
   ]
  },
  {
   "cell_type": "markdown",
   "id": "ee30f344",
   "metadata": {},
   "source": [
    "### Get Enable State Machine (ENSM) mode"
   ]
  },
  {
   "cell_type": "code",
   "execution_count": null,
   "id": "602f13b8",
   "metadata": {},
   "outputs": [],
   "source": [
    "mode = adc.get_en_state_machine_mode()\n",
    "print(mode)"
   ]
  },
  {
   "cell_type": "markdown",
   "id": "a5aa918b",
   "metadata": {},
   "source": [
    "### Set Enable State Machine (ENSM) mode"
   ]
  },
  {
   "cell_type": "code",
   "execution_count": null,
   "id": "d1a3c6ff",
   "metadata": {},
   "outputs": [],
   "source": [
    "mode = 2\n",
    "adc.set_en_state_machine_mode(mode)"
   ]
  },
  {
   "cell_type": "markdown",
   "id": "1253fd83",
   "metadata": {},
   "source": [
    "### Get current receive RF gain for the selected channel"
   ]
  },
  {
   "cell_type": "code",
   "execution_count": null,
   "id": "9c7b4b27",
   "metadata": {},
   "outputs": [],
   "source": [
    "channel = 0\n",
    "gain_db = adc.get_rx_rf_gain(channel)\n",
    "print(gain_db)"
   ]
  },
  {
   "cell_type": "markdown",
   "id": "8e6c6c8c",
   "metadata": {},
   "source": [
    "### Set the receive RF gain for the selected channel"
   ]
  },
  {
   "cell_type": "code",
   "execution_count": null,
   "id": "5573721d",
   "metadata": {},
   "outputs": [],
   "source": [
    "channel = 0\n",
    "gain_db = 7\n",
    "adc.set_rx_rf_gain(channel, gain_db)"
   ]
  },
  {
   "cell_type": "markdown",
   "id": "9f09436f",
   "metadata": {},
   "source": [
    "### Get the RX RF bandwidth"
   ]
  },
  {
   "cell_type": "code",
   "execution_count": null,
   "id": "f5aec6df",
   "metadata": {},
   "outputs": [],
   "source": [
    "bandwidth_hz = adc.get_rx_rf_bandwidth()\n",
    "print(bandwidth_hz)"
   ]
  },
  {
   "cell_type": "markdown",
   "id": "1a359562",
   "metadata": {},
   "source": [
    "### Set the RX RF bandwidth"
   ]
  },
  {
   "cell_type": "code",
   "execution_count": null,
   "id": "8e5fdcb4",
   "metadata": {},
   "outputs": [],
   "source": [
    "bandwidth_hz = 4000000\n",
    "adc.set_rx_rf_bandwidth(bandwidth_hz)"
   ]
  },
  {
   "cell_type": "markdown",
   "id": "f01f36be",
   "metadata": {},
   "source": [
    "### Get current RX sampling frequency"
   ]
  },
  {
   "cell_type": "code",
   "execution_count": null,
   "id": "747d3a2f",
   "metadata": {},
   "outputs": [],
   "source": [
    "sampling_freq_hz = adc.get_rx_sampling_freq()\n",
    "print(sampling_freq_hz)"
   ]
  },
  {
   "cell_type": "markdown",
   "id": "17a24171",
   "metadata": {},
   "source": [
    "### Set the RX sampling frequency"
   ]
  },
  {
   "cell_type": "code",
   "execution_count": null,
   "id": "66035ed9",
   "metadata": {},
   "outputs": [],
   "source": [
    "sampling_freq_hz = 30000000\n",
    "adc.set_rx_sampling_freq(sampling_freq_hz)"
   ]
  },
  {
   "cell_type": "markdown",
   "id": "94e586ee",
   "metadata": {},
   "source": [
    "### Get current RX LO frequency"
   ]
  },
  {
   "cell_type": "code",
   "execution_count": null,
   "id": "0e5a1a18",
   "metadata": {},
   "outputs": [],
   "source": [
    "lo_freq_hz = adc.get_rx_lo_freq()\n",
    "print(lo_freq_hz)"
   ]
  },
  {
   "cell_type": "markdown",
   "id": "c0f10c29",
   "metadata": {},
   "source": [
    "### Set the RX LO frequency"
   ]
  },
  {
   "cell_type": "code",
   "execution_count": null,
   "id": "a227874d",
   "metadata": {},
   "outputs": [],
   "source": [
    "lo_freq_hz = 1400000000\n",
    "adc.set_rx_lo_freq(lo_freq_hz)"
   ]
  },
  {
   "cell_type": "markdown",
   "id": "81bbe176",
   "metadata": {},
   "source": [
    "### Switch between internal and external LO"
   ]
  },
  {
   "cell_type": "code",
   "execution_count": null,
   "id": "f0a9d393",
   "metadata": {},
   "outputs": [],
   "source": [
    "INT_LO = 0\n",
    "EXI_LO = 1\n",
    "adc.set_rx_lo_int_ext(INT_LO)"
   ]
  },
  {
   "cell_type": "markdown",
   "id": "bb82cb94",
   "metadata": {},
   "source": [
    "### Get the RX RSSI for the selected channel"
   ]
  },
  {
   "cell_type": "code",
   "execution_count": null,
   "id": "de0d53bd",
   "metadata": {},
   "outputs": [],
   "source": [
    "channel = 0\n",
    "rssi = adc.get_rx_rssi(channel)\n",
    "rssi.print()"
   ]
  },
  {
   "cell_type": "markdown",
   "id": "6b5eff08",
   "metadata": {},
   "source": [
    "### Get the gain control mode for the selected channel"
   ]
  },
  {
   "cell_type": "code",
   "execution_count": null,
   "id": "9a67a4a6",
   "metadata": {},
   "outputs": [],
   "source": [
    "channel = 0\n",
    "mode = adc.get_rx_gain_control_mode(channel)\n",
    "print(mode)"
   ]
  },
  {
   "cell_type": "markdown",
   "id": "6de5918b",
   "metadata": {},
   "source": [
    "### Set the gain control mode for the selected channel"
   ]
  },
  {
   "cell_type": "code",
   "execution_count": null,
   "id": "c61cd05b",
   "metadata": {},
   "outputs": [],
   "source": [
    "channel = 0\n",
    "mode = 1\n",
    "adc.set_rx_gain_control_mode(channel, mode)"
   ]
  },
  {
   "cell_type": "markdown",
   "id": "2c94da82",
   "metadata": {},
   "source": [
    "### Get the RX FIR filter configuration"
   ]
  },
  {
   "cell_type": "code",
   "execution_count": null,
   "id": "aa1edbf9",
   "metadata": {},
   "outputs": [],
   "source": [
    "channel = 0\n",
    "fir_config = adc.get_rx_fir_config(channel)\n",
    "fir_config.print()"
   ]
  },
  {
   "cell_type": "markdown",
   "id": "0a27258f",
   "metadata": {},
   "source": [
    "### Set the RX FIR filter configuration"
   ]
  },
  {
   "cell_type": "code",
   "execution_count": null,
   "id": "727d6543",
   "metadata": {},
   "outputs": [],
   "source": [
    "fir_config_new = RXFIRConfig()\n",
    "fir_config_new.rx = 1\n",
    "fir_config_new.rx_gain = -6\n",
    "fir_config_new.rx_dec = 1\n",
    "fir_config_new.rx_coef = fir_config.rx_coef\n",
    "fir_config_new.rx_coef_size = fir_config.rx_coef_size\n",
    "fir_config_new.rx_path_clks = fir_config.rx_path_clks\n",
    "fir_config_new.rx_bandwidth = fir_config.rx_bandwidth\n",
    "fir_config_new.print()\n",
    "adc.set_rx_fir_config(fir_config_new)"
   ]
  },
  {
   "cell_type": "markdown",
   "id": "0b06f92c",
   "metadata": {},
   "source": [
    "### Get the status of the RX FIR filter"
   ]
  },
  {
   "cell_type": "code",
   "execution_count": null,
   "id": "5d1d1880",
   "metadata": {},
   "outputs": [],
   "source": [
    "en_dis = adc.get_rx_fir_en_dis()\n",
    "print(en_dis)"
   ]
  },
  {
   "cell_type": "markdown",
   "id": "a0d769d0",
   "metadata": {},
   "source": [
    "### Enable/Disable the RX FIR filter"
   ]
  },
  {
   "cell_type": "code",
   "execution_count": null,
   "id": "68e8f6e9",
   "metadata": {},
   "outputs": [],
   "source": [
    "en_dis = 1\n",
    "adc.set_rx_fir_en_dis(en_dis)"
   ]
  },
  {
   "cell_type": "markdown",
   "id": "8a5f0293",
   "metadata": {},
   "source": [
    "### Get the status of the RX RFDC Tracking"
   ]
  },
  {
   "cell_type": "code",
   "execution_count": null,
   "id": "48d720f1",
   "metadata": {},
   "outputs": [],
   "source": [
    "en_dis = adc.get_rx_rfdc_track_en_dis()\n",
    "print(en_dis)"
   ]
  },
  {
   "cell_type": "markdown",
   "id": "5172a570",
   "metadata": {},
   "source": [
    "### Enable/Disable the RX RFDC Tracking"
   ]
  },
  {
   "cell_type": "code",
   "execution_count": null,
   "id": "1bd8448c",
   "metadata": {},
   "outputs": [],
   "source": [
    "en_dis = 1\n",
    "adc.set_rx_rfdc_track_en_dis(en_dis)"
   ]
  },
  {
   "cell_type": "markdown",
   "id": "a18d91c5",
   "metadata": {},
   "source": [
    "### Get the status of the RX BasebandDC Tracking"
   ]
  },
  {
   "cell_type": "code",
   "execution_count": null,
   "id": "53f63840",
   "metadata": {},
   "outputs": [],
   "source": [
    "en_dis = adc.get_rx_bbdc_track_en_dis()\n",
    "print(en_dis)"
   ]
  },
  {
   "cell_type": "markdown",
   "id": "9fff72bd",
   "metadata": {},
   "source": [
    "### Enable/Disable the RX BasebandDC Tracking"
   ]
  },
  {
   "cell_type": "code",
   "execution_count": null,
   "id": "4f80327c",
   "metadata": {},
   "outputs": [],
   "source": [
    "en_dis = 1\n",
    "adc.set_rx_bbdc_track_en_dis(en_dis)"
   ]
  },
  {
   "cell_type": "markdown",
   "id": "a1c6dba7",
   "metadata": {},
   "source": [
    "### Get the status of the RX Quadrature Tracking"
   ]
  },
  {
   "cell_type": "code",
   "execution_count": null,
   "id": "30bbffde",
   "metadata": {},
   "outputs": [],
   "source": [
    "en_dis = adc.get_rx_quad_track_en_dis()\n",
    "print(en_dis)"
   ]
  },
  {
   "cell_type": "markdown",
   "id": "70184ce0",
   "metadata": {},
   "source": [
    "### Enable/Disable the RX Quadrature Tracking"
   ]
  },
  {
   "cell_type": "code",
   "execution_count": null,
   "id": "12498d37",
   "metadata": {},
   "outputs": [],
   "source": [
    "en_dis = 1\n",
    "adc.set_rx_quad_track_en_dis(en_dis)"
   ]
  },
  {
   "cell_type": "markdown",
   "id": "1de5d37b",
   "metadata": {},
   "source": [
    "### Get the selected RX RF output port"
   ]
  },
  {
   "cell_type": "code",
   "execution_count": null,
   "id": "cfb77f5a",
   "metadata": {},
   "outputs": [],
   "source": [
    "mode = adc.get_rx_rf_port_input()\n",
    "print(mode)"
   ]
  },
  {
   "cell_type": "markdown",
   "id": "cf94e10f",
   "metadata": {},
   "source": [
    "### Set the RX RF output port"
   ]
  },
  {
   "cell_type": "code",
   "execution_count": null,
   "id": "4954f3be",
   "metadata": {},
   "outputs": [],
   "source": [
    "mode = 1\n",
    "adc.set_rx_rf_port_input(mode)"
   ]
  },
  {
   "cell_type": "markdown",
   "id": "00f60992",
   "metadata": {},
   "source": [
    "### Store RX fastlock profile"
   ]
  },
  {
   "cell_type": "code",
   "execution_count": null,
   "id": "c9776d09",
   "metadata": {},
   "outputs": [],
   "source": [
    "profile = 0\n",
    "adc.rx_fastlock_store(0)"
   ]
  },
  {
   "cell_type": "markdown",
   "id": "9f80d32e",
   "metadata": {},
   "source": [
    "### Recall RX fastlock profile"
   ]
  },
  {
   "cell_type": "code",
   "execution_count": null,
   "id": "282b7cbc",
   "metadata": {},
   "outputs": [],
   "source": [
    "profile = 0\n",
    "adc.rx_fastlock_recall(0)"
   ]
  },
  {
   "cell_type": "markdown",
   "id": "95b0c0e5",
   "metadata": {},
   "source": [
    "### Load RX fastlock profile"
   ]
  },
  {
   "cell_type": "code",
   "execution_count": null,
   "id": "03d2421b",
   "metadata": {},
   "outputs": [],
   "source": [
    "profile = 0\n",
    "values = [0, 1, 2, 3, 4, 5, 6, 7, 8, 9, 10, 11, 12, 13, 14, 15]\n",
    "adc.rx_fastlock_load(profile, values)"
   ]
  },
  {
   "cell_type": "markdown",
   "id": "28c05d7a",
   "metadata": {},
   "source": [
    "### Save RX fastlock profile"
   ]
  },
  {
   "cell_type": "code",
   "execution_count": null,
   "id": "e12197b7",
   "metadata": {},
   "outputs": [],
   "source": [
    "profile = 0\n",
    "values = adc.rx_fastlock_save(profile)\n",
    "print(values)"
   ]
  },
  {
   "cell_type": "markdown",
   "id": "3e1d810d",
   "metadata": {},
   "source": [
    "### Get power down RX LO/Synthesizers"
   ]
  },
  {
   "cell_type": "code",
   "execution_count": null,
   "id": "9ca3c7e7",
   "metadata": {},
   "outputs": [],
   "source": [
    "pd = adc.get_rx_lo_powerdown()\n",
    "print(pd)"
   ]
  },
  {
   "cell_type": "markdown",
   "id": "06a528ac",
   "metadata": {},
   "source": [
    "### Set power down RX LO/Synthesizers"
   ]
  },
  {
   "cell_type": "code",
   "execution_count": null,
   "id": "ef5a335a",
   "metadata": {},
   "outputs": [],
   "source": [
    "pd = 1\n",
    "adc.set_rx_lo_powerdown(pd)"
   ]
  },
  {
   "cell_type": "markdown",
   "id": "38eef9b4",
   "metadata": {},
   "source": [
    "### Get current transmit attenuation for the selected channel"
   ]
  },
  {
   "cell_type": "code",
   "execution_count": null,
   "id": "c505d290",
   "metadata": {},
   "outputs": [],
   "source": [
    "channel = 0\n",
    "attenuation_mdb = adc.get_tx_attenuation(channel)\n",
    "print(attenuation_mdb)"
   ]
  },
  {
   "cell_type": "markdown",
   "id": "62fb0ed7",
   "metadata": {},
   "source": [
    "### Set the transmit attenuation for the selected channel"
   ]
  },
  {
   "cell_type": "code",
   "execution_count": null,
   "id": "25932c77",
   "metadata": {},
   "outputs": [],
   "source": [
    "channel = 0\n",
    "attenuation_mdb = 25000\n",
    "adc.set_tx_attenuation(channel, attenuation_mdb)"
   ]
  },
  {
   "cell_type": "markdown",
   "id": "d4764997",
   "metadata": {},
   "source": [
    "### Get the TX RF bandwidth"
   ]
  },
  {
   "cell_type": "code",
   "execution_count": null,
   "id": "e232c046",
   "metadata": {},
   "outputs": [],
   "source": [
    "bandwidth_hz = adc.get_tx_rf_bandwidth()\n",
    "print(bandwidth_hz)"
   ]
  },
  {
   "cell_type": "markdown",
   "id": "5687e214",
   "metadata": {},
   "source": [
    "### Set the TX RF bandwidth"
   ]
  },
  {
   "cell_type": "code",
   "execution_count": null,
   "id": "65e6216e",
   "metadata": {},
   "outputs": [],
   "source": [
    "bandwidth_hz = 4000000\n",
    "adc.set_tx_rf_bandwidth(bandwidth_hz)"
   ]
  },
  {
   "cell_type": "markdown",
   "id": "b4646fec",
   "metadata": {},
   "source": [
    "### Get current TX sampling frequency"
   ]
  },
  {
   "cell_type": "code",
   "execution_count": null,
   "id": "e24e7698",
   "metadata": {},
   "outputs": [],
   "source": [
    "sampling_freq_hz = adc.get_tx_sampling_freq()\n",
    "print(sampling_freq_hz)"
   ]
  },
  {
   "cell_type": "markdown",
   "id": "f6be7bed",
   "metadata": {},
   "source": [
    "### Set the TX sampling frequency"
   ]
  },
  {
   "cell_type": "code",
   "execution_count": null,
   "id": "30d61c78",
   "metadata": {},
   "outputs": [],
   "source": [
    "sampling_freq_hz = 30000000\n",
    "adc.set_tx_sampling_freq(sampling_freq_hz)"
   ]
  },
  {
   "cell_type": "markdown",
   "id": "62ac38af",
   "metadata": {},
   "source": [
    "### Get current TX LO frequency"
   ]
  },
  {
   "cell_type": "code",
   "execution_count": null,
   "id": "5262b188",
   "metadata": {},
   "outputs": [],
   "source": [
    "lo_freq_hz = adc.get_tx_lo_freq()\n",
    "print(lo_freq_hz)"
   ]
  },
  {
   "cell_type": "markdown",
   "id": "93c5ab2b",
   "metadata": {},
   "source": [
    "### Set the TX LO frequency"
   ]
  },
  {
   "cell_type": "code",
   "execution_count": null,
   "id": "969b9d83",
   "metadata": {},
   "outputs": [],
   "source": [
    "lo_freq_hz = 1400000000\n",
    "adc.set_tx_lo_freq(lo_freq_hz)"
   ]
  },
  {
   "cell_type": "markdown",
   "id": "5a414a06",
   "metadata": {},
   "source": [
    "### Switch between internal and external LO"
   ]
  },
  {
   "cell_type": "code",
   "execution_count": null,
   "id": "4ffa6457",
   "metadata": {},
   "outputs": [],
   "source": [
    "INT_LO = 0\n",
    "EXI_LO = 1\n",
    "adc.set_tx_lo_int_ext(INT_LO)"
   ]
  },
  {
   "cell_type": "markdown",
   "id": "c703a5da",
   "metadata": {},
   "source": [
    "### Get the TX FIR filter configuration"
   ]
  },
  {
   "cell_type": "code",
   "execution_count": null,
   "id": "d581bced",
   "metadata": {},
   "outputs": [],
   "source": [
    "channel = 0\n",
    "fir_config = adc.get_tx_fir_config(channel)\n",
    "fir_config.print()"
   ]
  },
  {
   "cell_type": "markdown",
   "id": "76a2c29d",
   "metadata": {},
   "source": [
    "### Set the TX FIR filter configuration"
   ]
  },
  {
   "cell_type": "code",
   "execution_count": null,
   "id": "cadea777",
   "metadata": {},
   "outputs": [],
   "source": [
    "fir_config_new = TXFIRConfig()\n",
    "fir_config_new.tx = 1\n",
    "fir_config_new.tx_gain = -6\n",
    "fir_config_new.tx_dec = 1\n",
    "fir_config_new.tx_coef = fir_config.tx_coef\n",
    "fir_config_new.tx_coef_size = fir_config.tx_coef_size\n",
    "fir_config_new.tx_path_clks = fir_config.tx_path_clks\n",
    "fir_config_new.tx_bandwidth = fir_config.tx_bandwidth\n",
    "fir_config_new.print()\n",
    "adc.set_tx_fir_config(fir_config_new)"
   ]
  },
  {
   "cell_type": "markdown",
   "id": "05e34377",
   "metadata": {},
   "source": [
    "### Get the status of the TX FIR filter"
   ]
  },
  {
   "cell_type": "code",
   "execution_count": null,
   "id": "a55aaf57",
   "metadata": {},
   "outputs": [],
   "source": [
    "en_dis = adc.get_tx_fir_en_dis()\n",
    "print(en_dis)"
   ]
  },
  {
   "cell_type": "markdown",
   "id": "cc2f9cf1",
   "metadata": {},
   "source": [
    "### Enable/Disable the TX FIR filter"
   ]
  },
  {
   "cell_type": "code",
   "execution_count": null,
   "id": "ae8a7a1f",
   "metadata": {},
   "outputs": [],
   "source": [
    "en_dis = 1\n",
    "adc.set_tx_fir_en_dis(en_dis)"
   ]
  },
  {
   "cell_type": "markdown",
   "id": "4131f30b",
   "metadata": {},
   "source": [
    "### Get the TX RSSI for the selected channel"
   ]
  },
  {
   "cell_type": "code",
   "execution_count": null,
   "id": "9151395a",
   "metadata": {},
   "outputs": [],
   "source": [
    "channel = 0\n",
    "rssi_db_x_1000 = adc.get_tx_rssi(channel)\n",
    "print(rssi_db_x_1000)"
   ]
  },
  {
   "cell_type": "markdown",
   "id": "f8cf83d0",
   "metadata": {},
   "source": [
    "### Get the selected TX RF output port"
   ]
  },
  {
   "cell_type": "code",
   "execution_count": null,
   "id": "7d2a7b6d",
   "metadata": {},
   "outputs": [],
   "source": [
    "mode = adc.get_tx_rf_port_output()\n",
    "print(mode)"
   ]
  },
  {
   "cell_type": "markdown",
   "id": "74a7e02c",
   "metadata": {},
   "source": [
    "### Set the TX RF output port"
   ]
  },
  {
   "cell_type": "code",
   "execution_count": null,
   "id": "8b3d3188",
   "metadata": {},
   "outputs": [],
   "source": [
    "mode = 1\n",
    "adc.set_tx_rf_port_output(mode)"
   ]
  },
  {
   "cell_type": "markdown",
   "id": "66d1eb8a",
   "metadata": {},
   "source": [
    "### Get the status of the auto calibration flag"
   ]
  },
  {
   "cell_type": "code",
   "execution_count": null,
   "id": "6db8c8d6",
   "metadata": {},
   "outputs": [],
   "source": [
    "en_dis = adc.get_tx_auto_cal_en_dis()\n",
    "print(en_dis)"
   ]
  },
  {
   "cell_type": "markdown",
   "id": "0c00eda8",
   "metadata": {},
   "source": [
    "### Enable/disable the auto calibration"
   ]
  },
  {
   "cell_type": "code",
   "execution_count": null,
   "id": "8f158bf9",
   "metadata": {},
   "outputs": [],
   "source": [
    "en_dis = 0\n",
    "adc.set_tx_auto_cal_en_dis(en_dis)"
   ]
  },
  {
   "cell_type": "markdown",
   "id": "9f331a81",
   "metadata": {},
   "source": [
    "### Store TX fastlock profile"
   ]
  },
  {
   "cell_type": "code",
   "execution_count": null,
   "id": "c146c26b",
   "metadata": {},
   "outputs": [],
   "source": [
    "profile = 0\n",
    "adc.tx_fastlock_store(0)"
   ]
  },
  {
   "cell_type": "markdown",
   "id": "1b4c10fd",
   "metadata": {},
   "source": [
    "### Recall TX fastlock profile"
   ]
  },
  {
   "cell_type": "code",
   "execution_count": null,
   "id": "3bb80791",
   "metadata": {},
   "outputs": [],
   "source": [
    "profile = 0\n",
    "adc.tx_fastlock_recall(0)"
   ]
  },
  {
   "cell_type": "markdown",
   "id": "6c8a8143",
   "metadata": {},
   "source": [
    "### Load TX fastlock profile"
   ]
  },
  {
   "cell_type": "code",
   "execution_count": null,
   "id": "0cc726e1",
   "metadata": {},
   "outputs": [],
   "source": [
    "profile = 0\n",
    "values = [0, 1, 2, 3, 4, 5, 6, 7, 8, 9, 10, 11, 12, 13, 14, 15]\n",
    "adc.tx_fastlock_load(profile, values)"
   ]
  },
  {
   "cell_type": "markdown",
   "id": "aed93838",
   "metadata": {},
   "source": [
    "### Save TX fastlock profile"
   ]
  },
  {
   "cell_type": "code",
   "execution_count": null,
   "id": "485eb1a3",
   "metadata": {},
   "outputs": [],
   "source": [
    "profile = 0\n",
    "values = adc.tx_fastlock_save(profile)\n",
    "print(values)"
   ]
  },
  {
   "cell_type": "markdown",
   "id": "7e8b7a16",
   "metadata": {},
   "source": [
    "### Get power down TX LO/Synthesizers"
   ]
  },
  {
   "cell_type": "code",
   "execution_count": null,
   "id": "b641cbb3",
   "metadata": {},
   "outputs": [],
   "source": [
    "pd = adc.get_tx_lo_powerdown()\n",
    "print(pd)"
   ]
  },
  {
   "cell_type": "markdown",
   "id": "ad6e4b35",
   "metadata": {},
   "source": [
    "### Set power down TX LO/Synthesizers"
   ]
  },
  {
   "cell_type": "code",
   "execution_count": null,
   "id": "ecd901ae",
   "metadata": {},
   "outputs": [],
   "source": [
    "pd = 1\n",
    "adc.set_tx_lo_powerdown(pd)"
   ]
  },
  {
   "cell_type": "markdown",
   "id": "56e8124e",
   "metadata": {},
   "source": [
    "### Get the RX and TX path rates"
   ]
  },
  {
   "cell_type": "code",
   "execution_count": null,
   "id": "60cb1851",
   "metadata": {},
   "outputs": [],
   "source": [
    "rx_path_clks, tx_path_clks = adc.get_trx_path_clks()\n",
    "print(rx_path_clks)\n",
    "print(tx_path_clks)"
   ]
  },
  {
   "cell_type": "markdown",
   "id": "03f5855e",
   "metadata": {},
   "source": [
    "### Set the RX and TX path rates"
   ]
  },
  {
   "cell_type": "code",
   "execution_count": null,
   "id": "57012315",
   "metadata": {},
   "outputs": [],
   "source": [
    "rx_path_clks = [0, 0, 0, 0, 0, 0, 0]\n",
    "tx_path_clks = [0, 0, 0, 0, 0, 0, 0]\n",
    "adc.set_trx_path_clks(rx_path_clks, tx_path_clks)"
   ]
  },
  {
   "cell_type": "markdown",
   "id": "0bdc6185",
   "metadata": {},
   "source": [
    "### Power Down RX/TX LO/Synthesizers"
   ]
  },
  {
   "cell_type": "code",
   "execution_count": null,
   "id": "9f733554",
   "metadata": {},
   "outputs": [],
   "source": [
    "pd_rx = 0\n",
    "pd_tx = 0\n",
    "adc.set_trx_lo_powerdown(pd_rx, pd_tx)"
   ]
  },
  {
   "cell_type": "markdown",
   "id": "41219bc8",
   "metadata": {},
   "source": [
    "### Set the number of channels mode"
   ]
  },
  {
   "cell_type": "code",
   "execution_count": null,
   "id": "c89dea75",
   "metadata": {},
   "outputs": [],
   "source": [
    "no_ch_mode = 1\n",
    "adc.set_no_ch_mode(no_ch_mode)"
   ]
  },
  {
   "cell_type": "markdown",
   "id": "24bb515d",
   "metadata": {},
   "source": [
    "### Enable/disable the TRX FIR filters"
   ]
  },
  {
   "cell_type": "code",
   "execution_count": null,
   "id": "28bddefc",
   "metadata": {},
   "outputs": [],
   "source": [
    "en_dis = 1\n",
    "adc.set_trx_fir_en_dis(en_dis)"
   ]
  },
  {
   "cell_type": "markdown",
   "id": "0aeca4e3",
   "metadata": {},
   "source": [
    "### Get the OSR rate governor"
   ]
  },
  {
   "cell_type": "code",
   "execution_count": null,
   "id": "7f7e7a12",
   "metadata": {},
   "outputs": [],
   "source": [
    "rate_gov = adc.get_trx_rate_gov()\n",
    "print(rate_gov)"
   ]
  },
  {
   "cell_type": "markdown",
   "id": "e3eb4557",
   "metadata": {},
   "source": [
    "### Set the OSR rate governor"
   ]
  },
  {
   "cell_type": "code",
   "execution_count": null,
   "id": "d3ee3815",
   "metadata": {},
   "outputs": [],
   "source": [
    "rate_gov = 0\n",
    "adc.set_trx_rate_gov(rate_gov)"
   ]
  },
  {
   "cell_type": "markdown",
   "id": "388792e8",
   "metadata": {},
   "source": [
    "### Perform the selected calibration"
   ]
  },
  {
   "cell_type": "code",
   "execution_count": null,
   "id": "e8e4ee3b",
   "metadata": {},
   "outputs": [],
   "source": [
    "cal = 0\n",
    "arg = 0\n",
    "adc.do_calib(cal, arg)"
   ]
  },
  {
   "cell_type": "markdown",
   "id": "784d794d",
   "metadata": {},
   "source": [
    "### Load and enable TRX FIR filters configurations"
   ]
  },
  {
   "cell_type": "code",
   "execution_count": null,
   "id": "af8b1925",
   "metadata": {},
   "outputs": [],
   "source": [
    "rx_fir_cfg = adc.get_rx_fir_config(0)\n",
    "tx_fir_cfg = adc.get_tx_fir_config(0)\n",
    "rx_fir_cfg.print()\n",
    "tx_fir_cfg.print()\n",
    "adc.trx_load_enable_fir(rx_fir_cfg, tx_fir_cfg)"
   ]
  },
  {
   "cell_type": "markdown",
   "id": "302c6274",
   "metadata": {},
   "source": [
    "### Do DCXO coarse tuning"
   ]
  },
  {
   "cell_type": "code",
   "execution_count": null,
   "id": "cdadd8a5",
   "metadata": {},
   "outputs": [],
   "source": [
    "coarse = 1\n",
    "adc.do_dcxo_tune_coarse(coarse)"
   ]
  },
  {
   "cell_type": "markdown",
   "id": "d4d7c9df",
   "metadata": {},
   "source": [
    "### Do DCXO fine tuning"
   ]
  },
  {
   "cell_type": "code",
   "execution_count": null,
   "id": "d38e34f7",
   "metadata": {},
   "outputs": [],
   "source": [
    "fine = 1\n",
    "adc.do_dcxo_tune_fine(fine)"
   ]
  },
  {
   "cell_type": "markdown",
   "id": "bb0ca021",
   "metadata": {},
   "source": [
    "### Get the measured temperature of the device"
   ]
  },
  {
   "cell_type": "code",
   "execution_count": null,
   "id": "cb60acaa",
   "metadata": {},
   "outputs": [],
   "source": [
    "temperature = adc.get_temp()\n",
    "print(temperature)"
   ]
  },
  {
   "cell_type": "code",
   "execution_count": null,
   "id": "58d13327",
   "metadata": {},
   "outputs": [],
   "source": []
  }
 ],
 "metadata": {
  "kernelspec": {
   "display_name": "Python 3",
   "language": "python",
   "name": "python3"
  },
  "language_info": {
   "codemirror_mode": {
    "name": "ipython",
    "version": 3
   },
   "file_extension": ".py",
   "mimetype": "text/x-python",
   "name": "python",
   "nbconvert_exporter": "python",
   "pygments_lexer": "ipython3",
   "version": "3.8.2"
  }
 },
 "nbformat": 4,
 "nbformat_minor": 5
}
