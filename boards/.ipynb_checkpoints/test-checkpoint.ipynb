{
 "cells": [
  {
   "cell_type": "code",
   "execution_count": 1,
   "id": "0d4eeade-4c7c-49d6-a1f8-e4c27e102e4f",
   "metadata": {
    "extensions": {
     "jupyter_dashboards": {
      "activeView": "grid_default",
      "views": {
       "grid_default": {
        "col": null,
        "height": 2,
        "hidden": true,
        "row": null,
        "width": 2
       }
      }
     }
    },
    "tags": []
   },
   "outputs": [
    {
     "data": {
      "application/javascript": [
       "\n",
       "try {\n",
       "require(['notebook/js/codecell'], function(codecell) {\n",
       "  codecell.CodeCell.options_default.highlight_modes[\n",
       "      'magic_text/x-csrc'] = {'reg':[/^%%microblaze/]};\n",
       "  Jupyter.notebook.events.one('kernel_ready.Kernel', function(){\n",
       "      Jupyter.notebook.get_cells().map(function(cell){\n",
       "          if (cell.cell_type == 'code'){ cell.auto_highlight(); } }) ;\n",
       "  });\n",
       "});\n",
       "} catch (e) {};\n"
      ]
     },
     "metadata": {},
     "output_type": "display_data"
    },
    {
     "data": {
      "application/javascript": [
       "\n",
       "try {\n",
       "require(['notebook/js/codecell'], function(codecell) {\n",
       "  codecell.CodeCell.options_default.highlight_modes[\n",
       "      'magic_text/x-csrc'] = {'reg':[/^%%pybind11/]};\n",
       "  Jupyter.notebook.events.one('kernel_ready.Kernel', function(){\n",
       "      Jupyter.notebook.get_cells().map(function(cell){\n",
       "          if (cell.cell_type == 'code'){ cell.auto_highlight(); } }) ;\n",
       "  });\n",
       "});\n",
       "} catch (e) {};\n"
      ]
     },
     "metadata": {},
     "output_type": "display_data"
    }
   ],
   "source": [
    "from pynq import Overlay\n",
    "from pynq import MMIO\n",
    "from pynq import allocate\n",
    "import numpy as np\n",
    "import matplotlib.pyplot as plt\n",
    "from ctypes import *"
   ]
  },
  {
   "cell_type": "code",
   "execution_count": 2,
   "id": "285ffa93",
   "metadata": {},
   "outputs": [],
   "source": [
    "class AD9361():\n",
    "    def __init__(self):\n",
    "        self.ol = Overlay('axi_quad_spi.bit')\n",
    "        self.lib = cdll.LoadLibrary(\"./libad9361_drv.so\")\n",
    "        self.spifd = self.lib.open_spi()\n",
    "        assert self.spifd > 0, 'spi open error'\n",
    "        assert self.lib.init_ad9361(self.spifd) == 0, 'ad9361 initialization failed'\n",
    "        print('ad9361 successfully initialized')\n",
    "        ret = self.lib.config_ad9361()\n",
    "        assert ret > 0, 'ad9361 config failed'\n",
    "        print('product ID: 0x%X' % ret)\n",
    "                \n",
    "    def set_en_state_machine_mode(self, mode):\n",
    "        self.lib._ad9361_set_en_state_machine_mode.argtypes = [c_uint]\n",
    "        return self.lib._ad9361_set_en_state_machine_mode(mode)\n",
    "    \n",
    "    def get_en_state_machine_mode(self):\n",
    "        self.lib._ad9361_get_en_state_machine_mode.argtypes = [POINTER(c_uint)]\n",
    "        mode = c_uint(0)\n",
    "        self.lib._ad9361_get_en_state_machine_mode(mode)\n",
    "        return mode.value\n",
    "    \n",
    "    def set_rx_rf_gain(self, ch, gain_db):\n",
    "        self.lib._ad9361_set_rx_rf_gain.argtypes = [c_ubyte, c_int]\n",
    "        return self.lib._ad9361_set_rx_rf_gain(ch, gain_db)\n",
    "    \n",
    "    def get_rx_rf_gain(self, ch):\n",
    "        self.lib._ad9361_get_rx_rf_gain.argtypes = [c_ubyte, POINTER(c_int)]\n",
    "        gain_db = c_int(0)\n",
    "        self.lib._ad9361_get_rx_rf_gain(ch, gain_db)\n",
    "        return gain_db.value\n",
    "\n",
    "    def set_rx_rf_bandwidth(self, bandwidth_hz):\n",
    "        self.lib._ad9361_set_rx_rf_bandwidth.argtypes = [c_uint]\n",
    "        return self.lib._ad9361_set_rx_rf_bandwidth(bandwidth_hz)\n",
    "    \n",
    "    def get_rx_rf_bandwidth(self):\n",
    "        self.lib._ad9361_get_rx_rf_bandwidth.argtypes = [POINTER(c_uint)]\n",
    "        bandwidth_hz = c_uint(0)\n",
    "        self.lib._ad9361_get_rx_rf_bandwidth(bandwidth_hz)\n",
    "        return bandwidth_hz.value\n",
    "    \n",
    "    def set_rx_sampling_freq(self, sampling_freq_hz):\n",
    "        self.lib._ad9361_set_rx_sampling_freq.argtypes = [c_uint]\n",
    "        return self.lib._ad9361_set_rx_sampling_freq(sampling_freq_hz)\n",
    "    \n",
    "    def get_rx_sampling_freq(self):\n",
    "        self.lib._ad9361_get_rx_sampling_freq.argtypes = [POINTER(c_uint)]\n",
    "        sampling_freq_hz = c_uint(0)\n",
    "        self.lib._ad9361_get_rx_sampling_freq(sampling_freq_hz)\n",
    "        return sampling_freq_hz.value\n",
    "    \n",
    "    def set_rx_lo_freq(self, lo_freq_hz):\n",
    "        self.lib._ad9361_set_rx_lo_freq.argtypes = [c_ulonglong]\n",
    "        return self.lib._ad9361_set_rx_lo_freq(lo_freq_hz)\n",
    "    \n",
    "    def get_rx_lo_freq(self):\n",
    "        self.lib._ad9361_get_rx_lo_freq.argtypes = [POINTER(c_ulonglong)]\n",
    "        lo_freq_hz = c_ulonglong(0)\n",
    "        self.lib._ad9361_get_rx_lo_freq(lo_freq_hz)\n",
    "        return lo_freq_hz.value\n",
    "    \n",
    "    def set_rx_lo_int_ext(self, int_ext):\n",
    "        self.lib._ad9361_get_en_state_machine_mode.argtypes = [c_ubyte]\n",
    "        return self.lib._ad9361_set_rx_lo_int_ext(int_ext)"
   ]
  },
  {
   "cell_type": "code",
   "execution_count": 3,
   "id": "7fbd9a11",
   "metadata": {},
   "outputs": [
    {
     "name": "stdout",
     "output_type": "stream",
     "text": [
      "ad9361 successfully initialized\n",
      "product ID: 0xA\n"
     ]
    }
   ],
   "source": [
    "adc = AD9361()"
   ]
  },
  {
   "cell_type": "code",
   "execution_count": 4,
   "id": "2baa6297",
   "metadata": {},
   "outputs": [
    {
     "name": "stdout",
     "output_type": "stream",
     "text": [
      "get_en_state_machine_mode: 3\n",
      "get_rx_rf_gain: 8\n",
      "get_rx_rf_bandwidth: 5000000\n",
      "get_rx_sampling_freq: 40000000\n",
      "get_rx_lo_freq: 1500000000\n"
     ]
    }
   ],
   "source": [
    "print(\"get_en_state_machine_mode:\", adc.get_en_state_machine_mode())\n",
    "print(\"get_rx_rf_gain:\", adc.get_rx_rf_gain(0))\n",
    "print(\"get_rx_rf_bandwidth:\", adc.get_rx_rf_bandwidth())\n",
    "print(\"get_rx_sampling_freq:\", adc.get_rx_sampling_freq())\n",
    "print(\"get_rx_lo_freq:\", adc.get_rx_lo_freq())"
   ]
  },
  {
   "cell_type": "code",
   "execution_count": 5,
   "id": "1c25d5d6",
   "metadata": {},
   "outputs": [
    {
     "ename": "AttributeError",
     "evalue": "'AD9361' object has no attribute 'set_set_en_state_machine_mode'",
     "output_type": "error",
     "traceback": [
      "\u001b[0;31m---------------------------------------------------------------------------\u001b[0m",
      "\u001b[0;31mAttributeError\u001b[0m                            Traceback (most recent call last)",
      "\u001b[0;32m<ipython-input-5-7a814e0bc7d0>\u001b[0m in \u001b[0;36m<module>\u001b[0;34m\u001b[0m\n\u001b[0;32m----> 1\u001b[0;31m \u001b[0mprint\u001b[0m\u001b[0;34m(\u001b[0m\u001b[0;34m\"set_en_state_machine_mode:\"\u001b[0m\u001b[0;34m,\u001b[0m \u001b[0madc\u001b[0m\u001b[0;34m.\u001b[0m\u001b[0mset_set_en_state_machine_mode\u001b[0m\u001b[0;34m(\u001b[0m\u001b[0;36m2\u001b[0m\u001b[0;34m)\u001b[0m\u001b[0;34m)\u001b[0m\u001b[0;34m\u001b[0m\u001b[0;34m\u001b[0m\u001b[0m\n\u001b[0m\u001b[1;32m      2\u001b[0m \u001b[0mprint\u001b[0m\u001b[0;34m(\u001b[0m\u001b[0;34m\"set_rx_rf_gain:\"\u001b[0m\u001b[0;34m,\u001b[0m \u001b[0madc\u001b[0m\u001b[0;34m.\u001b[0m\u001b[0mset_set_rx_rf_gain\u001b[0m\u001b[0;34m(\u001b[0m\u001b[0;36m7\u001b[0m\u001b[0;34m)\u001b[0m\u001b[0;34m)\u001b[0m\u001b[0;34m\u001b[0m\u001b[0;34m\u001b[0m\u001b[0m\n\u001b[1;32m      3\u001b[0m \u001b[0mprint\u001b[0m\u001b[0;34m(\u001b[0m\u001b[0;34m\"set_rx_rf_bandwidth:\"\u001b[0m\u001b[0;34m,\u001b[0m \u001b[0madc\u001b[0m\u001b[0;34m.\u001b[0m\u001b[0mset_set_rx_rf_bandwidth\u001b[0m\u001b[0;34m(\u001b[0m\u001b[0;36m5000020\u001b[0m\u001b[0;34m)\u001b[0m\u001b[0;34m)\u001b[0m\u001b[0;34m\u001b[0m\u001b[0;34m\u001b[0m\u001b[0m\n\u001b[1;32m      4\u001b[0m \u001b[0mprint\u001b[0m\u001b[0;34m(\u001b[0m\u001b[0;34m\"set_rx_sampling_freq:\"\u001b[0m\u001b[0;34m,\u001b[0m \u001b[0madc\u001b[0m\u001b[0;34m.\u001b[0m\u001b[0mset_set_rx_sampling_freq\u001b[0m\u001b[0;34m(\u001b[0m\u001b[0;36m40100000\u001b[0m\u001b[0;34m)\u001b[0m\u001b[0;34m)\u001b[0m\u001b[0;34m\u001b[0m\u001b[0;34m\u001b[0m\u001b[0m\n\u001b[1;32m      5\u001b[0m \u001b[0mprint\u001b[0m\u001b[0;34m(\u001b[0m\u001b[0;34m\"set_rx_lo_freq:\"\u001b[0m\u001b[0;34m,\u001b[0m \u001b[0madc\u001b[0m\u001b[0;34m.\u001b[0m\u001b[0mset_set_rx_lo_freq\u001b[0m\u001b[0;34m(\u001b[0m\u001b[0;36m1400000000\u001b[0m\u001b[0;34m)\u001b[0m\u001b[0;34m)\u001b[0m\u001b[0;34m\u001b[0m\u001b[0;34m\u001b[0m\u001b[0m\n",
      "\u001b[0;31mAttributeError\u001b[0m: 'AD9361' object has no attribute 'set_set_en_state_machine_mode'"
     ]
    }
   ],
   "source": [
    "print(\"set_en_state_machine_mode:\", adc.set_en_state_machine_mode(2))\n",
    "print(\"set_rx_rf_gain:\", adc.set_rx_rf_gain(7))\n",
    "print(\"set_rx_rf_bandwidth:\", adc.set_rx_rf_bandwidth(5000020))\n",
    "print(\"set_rx_sampling_freq:\", adc.set_rx_sampling_freq(40100000))\n",
    "print(\"set_rx_lo_freq:\", adc.set_rx_lo_freq(1400000000))\n",
    "# print(\"set_rx_lo_int_ext:\", adc.set_set_rx_lo_int_ext())\n"
   ]
  },
  {
   "cell_type": "code",
   "execution_count": null,
   "id": "f39ee9bb",
   "metadata": {
    "extensions": {
     "jupyter_dashboards": {
      "activeView": "grid_default",
      "views": {
       "grid_default": {
        "col": null,
        "height": 2,
        "hidden": true,
        "row": null,
        "width": 2
       }
      }
     }
    },
    "scrolled": true
   },
   "outputs": [],
   "source": [
    "sample_rate = 40000000\n",
    "data_point_size = 1024 # One Channel with data I number, 16bitdata_point_size*2\n",
    "mmio0 = ol.axi_litev3_0.mmio\n",
    "mmio1 = ol.pack_v1_0_0.mmio\n",
    "switch0 = ol.channel_1.axis_switch_0.mmio\n",
    "switch1 = ol.channel_2.axis_switch_1.mmio\n",
    "dma0 = ol.axi_dma_0\n",
    "dma1 = ol.axi_dma_1"
   ]
  },
  {
   "cell_type": "markdown",
   "id": "6506608e",
   "metadata": {
    "extensions": {
     "jupyter_dashboards": {
      "activeView": "grid_default",
      "views": {
       "grid_default": {
        "col": null,
        "height": 2,
        "hidden": true,
        "row": null,
        "width": 2
       }
      }
     }
    },
    "tags": []
   },
   "source": [
    "### AD_DA_top"
   ]
  },
  {
   "cell_type": "code",
   "execution_count": null,
   "id": "deef8e2d",
   "metadata": {
    "extensions": {
     "jupyter_dashboards": {
      "activeView": "grid_default",
      "views": {
       "grid_default": {
        "col": null,
        "height": 2,
        "hidden": true,
        "row": null,
        "width": 2
       }
      }
     }
    },
    "scrolled": true
   },
   "outputs": [],
   "source": [
    "mmio0.write(0x8, 0)\n",
    "mmio0.write(0xc, 256)\n",
    "mmio0.write(0x10, 1)\n",
    "mmio0.write(0x14, sample_rate << 2)\n",
    "mmio0.write(0x54, 0x7f)\n",
    "mmio0.write(0x58, 12)\n",
    "mmio0.write(0x4, 1)"
   ]
  },
  {
   "cell_type": "markdown",
   "id": "205f5b16-b57e-4200-8668-346aaae555ab",
   "metadata": {
    "extensions": {
     "jupyter_dashboards": {
      "activeView": "grid_default",
      "views": {
       "grid_default": {
        "col": null,
        "height": 2,
        "hidden": true,
        "row": null,
        "width": 2
       }
      }
     }
    }
   },
   "source": [
    "### SWITCH"
   ]
  },
  {
   "cell_type": "code",
   "execution_count": null,
   "id": "45c55d2f-ddbf-4ab7-a488-e5bad9621109",
   "metadata": {
    "extensions": {
     "jupyter_dashboards": {
      "activeView": "grid_default",
      "views": {
       "grid_default": {
        "col": null,
        "height": 2,
        "hidden": true,
        "row": null,
        "width": 2
       }
      }
     }
    }
   },
   "outputs": [],
   "source": [
    "switch0.write(0x40,1)\n",
    "switch0.write(0x44,0)\n",
    "switch0.write(0x48,0x80000000)\n",
    "switch0.write(0x00,2)\n",
    "\n",
    "switch1.write(0x40,1)\n",
    "switch1.write(0x44,0)\n",
    "switch1.write(0x48,0x80000000)\n",
    "switch1.write(0x00,2)"
   ]
  },
  {
   "cell_type": "markdown",
   "id": "aba3274c",
   "metadata": {
    "extensions": {
     "jupyter_dashboards": {
      "activeView": "grid_default",
      "views": {
       "grid_default": {
        "col": null,
        "height": 2,
        "hidden": true,
        "row": null,
        "width": 2
       }
      }
     }
    }
   },
   "source": [
    "### AXI_DMA"
   ]
  },
  {
   "cell_type": "code",
   "execution_count": null,
   "id": "92124ca7",
   "metadata": {
    "extensions": {
     "jupyter_dashboards": {
      "activeView": "grid_default",
      "views": {
       "grid_default": {
        "col": null,
        "height": 2,
        "hidden": true,
        "row": null,
        "width": 2
       }
      }
     }
    },
    "tags": []
   },
   "outputs": [],
   "source": [
    "buffer0 = allocate(shape=(data_point_size*2,), dtype = np.int16)\n",
    "buffer1 = allocate(shape=(data_point_size*2,), dtype = np.int16)"
   ]
  },
  {
   "cell_type": "code",
   "execution_count": null,
   "id": "27f61baa",
   "metadata": {
    "extensions": {
     "jupyter_dashboards": {
      "activeView": "grid_default",
      "views": {
       "grid_default": {
        "col": null,
        "height": 2,
        "hidden": true,
        "row": null,
        "width": 2
       }
      }
     }
    }
   },
   "outputs": [],
   "source": [
    "dma0.recvchannel.transfer(buffer0)\n",
    "dma1.recvchannel.transfer(buffer1)"
   ]
  },
  {
   "cell_type": "code",
   "execution_count": null,
   "id": "d42eceac-011c-4a17-b55d-a31f1f895863",
   "metadata": {
    "extensions": {
     "jupyter_dashboards": {
      "activeView": "grid_default",
      "views": {
       "grid_default": {
        "col": null,
        "height": 2,
        "hidden": true,
        "row": null,
        "width": 2
       }
      }
     }
    }
   },
   "outputs": [],
   "source": [
    "dma0.recvchannel.idle\n",
    "dma1.recvchannel.idle"
   ]
  },
  {
   "cell_type": "markdown",
   "id": "ac36919e",
   "metadata": {
    "extensions": {
     "jupyter_dashboards": {
      "activeView": "grid_default",
      "views": {
       "grid_default": {
        "col": null,
        "height": 2,
        "hidden": true,
        "row": null,
        "width": 2
       }
      }
     }
    }
   },
   "source": [
    "### PACK"
   ]
  },
  {
   "cell_type": "code",
   "execution_count": null,
   "id": "dc434fb9",
   "metadata": {
    "extensions": {
     "jupyter_dashboards": {
      "activeView": "grid_default",
      "views": {
       "grid_default": {
        "col": null,
        "height": 2,
        "hidden": true,
        "row": null,
        "width": 2
       }
      }
     }
    }
   },
   "outputs": [],
   "source": [
    "mmio1.write(0x4, data_point_size)\n",
    "mmio1.write(0x8, data_point_size)\n",
    "mmio1.write(0x0, 0)\n",
    "mmio1.write(0x0, 1) #Start capture data from ADC\n",
    "mmio1.write(0x0, 0)"
   ]
  },
  {
   "cell_type": "code",
   "execution_count": null,
   "id": "3f12a271",
   "metadata": {
    "extensions": {
     "jupyter_dashboards": {
      "activeView": "grid_default",
      "views": {
       "grid_default": {
        "col": null,
        "height": 2,
        "hidden": true,
        "row": null,
        "width": 2
       }
      }
     }
    }
   },
   "outputs": [],
   "source": [
    "dma0.recvchannel.idle\n",
    "dma1.recvchannel.idle"
   ]
  },
  {
   "cell_type": "code",
   "execution_count": null,
   "id": "cf5dea73-ce86-4266-bb54-0df2e08f7afc",
   "metadata": {},
   "outputs": [],
   "source": [
    "channel1_data_i = [0]*len(buffer0)\n",
    "channel1_data_q = [0]*len(buffer0)\n",
    "for i in range(0, len(buffer0)):\n",
    "        if (i%2) == 0:\n",
    "            channel1_data_i[i >> 1] = buffer0[i]\n",
    "        else:\n",
    "            channel1_data_q[(i-1) >> 1] = buffer0[i]"
   ]
  },
  {
   "cell_type": "code",
   "execution_count": null,
   "id": "1728e697-b388-4e26-9571-1579e91eee9d",
   "metadata": {},
   "outputs": [],
   "source": [
    "plt.plot(channel1_data_i[0:100])"
   ]
  },
  {
   "cell_type": "code",
   "execution_count": null,
   "id": "f4f9566a-776d-4621-a8a5-2ad3bb03eb0c",
   "metadata": {},
   "outputs": [],
   "source": [
    "plt.plot(channel1_data_q[0:100])"
   ]
  },
  {
   "cell_type": "code",
   "execution_count": null,
   "id": "adc65115-6e92-42c6-93f0-6d13a942030e",
   "metadata": {},
   "outputs": [],
   "source": [
    "# switch to FFT\n",
    "switch0.write(0x40,2)\n",
    "switch0.write(0x44,0)\n",
    "switch0.write(0x48,1)\n",
    "switch0.write(0x00,2)\n",
    "\n",
    "switch1.write(0x40,2)\n",
    "switch1.write(0x44,0)\n",
    "switch1.write(0x48,1)\n",
    "switch1.write(0x00,2)\n",
    "\n",
    "dma0.recvchannel.transfer(buffer0)\n",
    "dma1.recvchannel.transfer(buffer1)\n",
    "\n",
    "mmio1.write(0x4, 1024)\n",
    "mmio1.write(0x8, 1024)\n",
    "mmio1.write(0x0, 0)\n",
    "mmio1.write(0x0, 1)\n",
    "mmio1.write(0x0, 0)\n",
    "\n",
    "plt.plot(np.abs(buffer0))"
   ]
  },
  {
   "cell_type": "code",
   "execution_count": null,
   "id": "e9ad7791-d39c-4852-b3dd-f89d1eae28b7",
   "metadata": {},
   "outputs": [],
   "source": [
    "plt.plot(np.abs(buffer1))"
   ]
  },
  {
   "cell_type": "code",
   "execution_count": null,
   "id": "5cff5acd",
   "metadata": {
    "extensions": {
     "jupyter_dashboards": {
      "activeView": "grid_default",
      "views": {
       "grid_default": {
        "col": null,
        "height": 2,
        "hidden": true,
        "row": null,
        "width": 2
       }
      }
     }
    }
   },
   "outputs": [],
   "source": [
    "dma0.register_map"
   ]
  },
  {
   "cell_type": "code",
   "execution_count": null,
   "id": "59619c4e",
   "metadata": {
    "extensions": {
     "jupyter_dashboards": {
      "activeView": "grid_default",
      "views": {
       "grid_default": {
        "col": null,
        "height": 2,
        "hidden": true,
        "row": null,
        "width": 2
       }
      }
     }
    }
   },
   "outputs": [],
   "source": [
    "dir(dma1.recvchannel)"
   ]
  },
  {
   "cell_type": "code",
   "execution_count": null,
   "id": "841027af-b407-4060-ab0b-a96ba3b70eda",
   "metadata": {
    "extensions": {
     "jupyter_dashboards": {
      "activeView": "grid_default",
      "views": {
       "grid_default": {
        "col": null,
        "height": 2,
        "hidden": true,
        "row": null,
        "width": 2
       }
      }
     }
    }
   },
   "outputs": [],
   "source": [
    "ol.free()"
   ]
  },
  {
   "cell_type": "code",
   "execution_count": null,
   "id": "ff127b9e-4aad-499b-9301-133a3150548c",
   "metadata": {
    "extensions": {
     "jupyter_dashboards": {
      "activeView": "grid_default",
      "views": {
       "grid_default": {
        "col": null,
        "height": 2,
        "hidden": true,
        "row": null,
        "width": 2
       }
      }
     }
    }
   },
   "outputs": [],
   "source": [
    "ol?"
   ]
  },
  {
   "cell_type": "code",
   "execution_count": null,
   "id": "f3c7dc42",
   "metadata": {
    "extensions": {
     "jupyter_dashboards": {
      "activeView": "grid_default",
      "views": {
       "grid_default": {
        "col": null,
        "height": 2,
        "hidden": true,
        "row": null,
        "width": 2
       }
      }
     }
    }
   },
   "outputs": [],
   "source": []
  },
  {
   "cell_type": "code",
   "execution_count": null,
   "id": "59ce9a1c-0f3c-481d-a075-97878b977aa6",
   "metadata": {},
   "outputs": [],
   "source": []
  }
 ],
 "metadata": {
  "extensions": {
   "jupyter_dashboards": {
    "activeView": "grid_default",
    "version": 1,
    "views": {
     "grid_default": {
      "cellMargin": 2,
      "defaultCellHeight": 60,
      "maxColumns": 12,
      "name": "grid",
      "type": "grid"
     }
    }
   }
  },
  "kernelspec": {
   "display_name": "Python 3",
   "language": "python",
   "name": "python3"
  },
  "language_info": {
   "codemirror_mode": {
    "name": "ipython",
    "version": 3
   },
   "file_extension": ".py",
   "mimetype": "text/x-python",
   "name": "python",
   "nbconvert_exporter": "python",
   "pygments_lexer": "ipython3",
   "version": "3.8.2"
  }
 },
 "nbformat": 4,
 "nbformat_minor": 5
}
