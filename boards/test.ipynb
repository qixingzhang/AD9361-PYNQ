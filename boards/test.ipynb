{
 "cells": [
  {
   "cell_type": "code",
   "execution_count": 1,
   "id": "0d4eeade-4c7c-49d6-a1f8-e4c27e102e4f",
   "metadata": {
    "extensions": {
     "jupyter_dashboards": {
      "activeView": "grid_default",
      "views": {
       "grid_default": {
        "col": null,
        "height": 2,
        "hidden": true,
        "row": null,
        "width": 2
       }
      }
     }
    },
    "tags": []
   },
   "outputs": [
    {
     "data": {
      "application/javascript": [
       "\n",
       "try {\n",
       "require(['notebook/js/codecell'], function(codecell) {\n",
       "  codecell.CodeCell.options_default.highlight_modes[\n",
       "      'magic_text/x-csrc'] = {'reg':[/^%%microblaze/]};\n",
       "  Jupyter.notebook.events.one('kernel_ready.Kernel', function(){\n",
       "      Jupyter.notebook.get_cells().map(function(cell){\n",
       "          if (cell.cell_type == 'code'){ cell.auto_highlight(); } }) ;\n",
       "  });\n",
       "});\n",
       "} catch (e) {};\n"
      ]
     },
     "metadata": {},
     "output_type": "display_data"
    },
    {
     "data": {
      "application/javascript": [
       "\n",
       "try {\n",
       "require(['notebook/js/codecell'], function(codecell) {\n",
       "  codecell.CodeCell.options_default.highlight_modes[\n",
       "      'magic_text/x-csrc'] = {'reg':[/^%%pybind11/]};\n",
       "  Jupyter.notebook.events.one('kernel_ready.Kernel', function(){\n",
       "      Jupyter.notebook.get_cells().map(function(cell){\n",
       "          if (cell.cell_type == 'code'){ cell.auto_highlight(); } }) ;\n",
       "  });\n",
       "});\n",
       "} catch (e) {};\n"
      ]
     },
     "metadata": {},
     "output_type": "display_data"
    }
   ],
   "source": [
    "from pynq import MMIO\n",
    "from pynq import allocate\n",
    "import numpy as np\n",
    "import matplotlib.pyplot as plt\n",
    "from ad9361 import AD9361"
   ]
  },
  {
   "cell_type": "code",
   "execution_count": 2,
   "id": "35a087a4",
   "metadata": {},
   "outputs": [
    {
     "name": "stdout",
     "output_type": "stream",
     "text": [
      "ad9361 successfully initialized\n",
      "product ID: 0xA\n"
     ]
    }
   ],
   "source": [
    "adc = AD9361()"
   ]
  },
  {
   "cell_type": "code",
   "execution_count": 3,
   "id": "27c21a7a",
   "metadata": {},
   "outputs": [
    {
     "name": "stdout",
     "output_type": "stream",
     "text": [
      "get_en_state_machine_mode: 3\n",
      "get_rx_rf_gain: 8\n",
      "get_rx_rf_bandwidth: 5000000\n",
      "get_rx_sampling_freq: 40000000\n",
      "get_rx_lo_freq: 1500000000\n"
     ]
    }
   ],
   "source": [
    "# print(\"set_en_state_machine_mode:\", adc.set_en_state_machine_mode(2))\n",
    "# print(\"set_rx_rf_gain:\", adc.set_rx_rf_gain(0, 7))\n",
    "# print(\"set_rx_rf_bandwidth:\", adc.set_rx_rf_bandwidth(4000000))\n",
    "# print(\"set_rx_sampling_freq:\", adc.set_rx_sampling_freq(30000000))\n",
    "# print(\"set_rx_lo_freq:\", adc.set_rx_lo_freq(1400000000))\n",
    "print(\"get_en_state_machine_mode:\", adc.get_en_state_machine_mode())\n",
    "print(\"get_rx_rf_gain:\", adc.get_rx_rf_gain(0))\n",
    "print(\"get_rx_rf_bandwidth:\", adc.get_rx_rf_bandwidth())\n",
    "print(\"get_rx_sampling_freq:\", adc.get_rx_sampling_freq())\n",
    "print(\"get_rx_lo_freq:\", adc.get_rx_lo_freq())"
   ]
  },
  {
   "cell_type": "code",
   "execution_count": 4,
   "id": "11237d27",
   "metadata": {},
   "outputs": [],
   "source": [
    "ret = adc.get_rx_rssi(0)"
   ]
  },
  {
   "cell_type": "code",
   "execution_count": null,
   "id": "625831b6",
   "metadata": {},
   "outputs": [],
   "source": [
    "ret.multiplier"
   ]
  },
  {
   "cell_type": "code",
   "execution_count": 5,
   "id": "f39ee9bb",
   "metadata": {
    "extensions": {
     "jupyter_dashboards": {
      "activeView": "grid_default",
      "views": {
       "grid_default": {
        "col": null,
        "height": 2,
        "hidden": true,
        "row": null,
        "width": 2
       }
      }
     }
    },
    "scrolled": true
   },
   "outputs": [],
   "source": [
    "ol = adc.ol\n",
    "sample_rate = 40000000\n",
    "data_point_size = 1024 # One Channel with data I number, 16bitdata_point_size*2\n",
    "mmio0 = ol.axi_litev3_0.mmio\n",
    "mmio1 = ol.pack_v1_0_0.mmio\n",
    "switch0 = ol.channel_1.axis_switch_0.mmio\n",
    "switch1 = ol.channel_2.axis_switch_1.mmio\n",
    "dma0 = ol.axi_dma_0\n",
    "dma1 = ol.axi_dma_1"
   ]
  },
  {
   "cell_type": "markdown",
   "id": "6506608e",
   "metadata": {
    "extensions": {
     "jupyter_dashboards": {
      "activeView": "grid_default",
      "views": {
       "grid_default": {
        "col": null,
        "height": 2,
        "hidden": true,
        "row": null,
        "width": 2
       }
      }
     }
    },
    "tags": []
   },
   "source": [
    "### AD_DA_top"
   ]
  },
  {
   "cell_type": "code",
   "execution_count": 6,
   "id": "deef8e2d",
   "metadata": {
    "extensions": {
     "jupyter_dashboards": {
      "activeView": "grid_default",
      "views": {
       "grid_default": {
        "col": null,
        "height": 2,
        "hidden": true,
        "row": null,
        "width": 2
       }
      }
     }
    },
    "scrolled": true
   },
   "outputs": [],
   "source": [
    "mmio0.write(0x8, 0)\n",
    "mmio0.write(0xc, 256)\n",
    "mmio0.write(0x10, 1)\n",
    "mmio0.write(0x14, sample_rate << 2)\n",
    "mmio0.write(0x54, 0x7f)\n",
    "mmio0.write(0x58, 12)\n",
    "mmio0.write(0x4, 1)"
   ]
  },
  {
   "cell_type": "markdown",
   "id": "205f5b16-b57e-4200-8668-346aaae555ab",
   "metadata": {
    "extensions": {
     "jupyter_dashboards": {
      "activeView": "grid_default",
      "views": {
       "grid_default": {
        "col": null,
        "height": 2,
        "hidden": true,
        "row": null,
        "width": 2
       }
      }
     }
    }
   },
   "source": [
    "### SWITCH"
   ]
  },
  {
   "cell_type": "code",
   "execution_count": 7,
   "id": "45c55d2f-ddbf-4ab7-a488-e5bad9621109",
   "metadata": {
    "extensions": {
     "jupyter_dashboards": {
      "activeView": "grid_default",
      "views": {
       "grid_default": {
        "col": null,
        "height": 2,
        "hidden": true,
        "row": null,
        "width": 2
       }
      }
     }
    }
   },
   "outputs": [],
   "source": [
    "switch0.write(0x40,1)\n",
    "switch0.write(0x44,0)\n",
    "switch0.write(0x48,0x80000000)\n",
    "switch0.write(0x00,2)\n",
    "\n",
    "switch1.write(0x40,1)\n",
    "switch1.write(0x44,0)\n",
    "switch1.write(0x48,0x80000000)\n",
    "switch1.write(0x00,2)"
   ]
  },
  {
   "cell_type": "markdown",
   "id": "aba3274c",
   "metadata": {
    "extensions": {
     "jupyter_dashboards": {
      "activeView": "grid_default",
      "views": {
       "grid_default": {
        "col": null,
        "height": 2,
        "hidden": true,
        "row": null,
        "width": 2
       }
      }
     }
    }
   },
   "source": [
    "### AXI_DMA"
   ]
  },
  {
   "cell_type": "code",
   "execution_count": 8,
   "id": "92124ca7",
   "metadata": {
    "extensions": {
     "jupyter_dashboards": {
      "activeView": "grid_default",
      "views": {
       "grid_default": {
        "col": null,
        "height": 2,
        "hidden": true,
        "row": null,
        "width": 2
       }
      }
     }
    },
    "tags": []
   },
   "outputs": [],
   "source": [
    "buffer0 = allocate(shape=(data_point_size*2,), dtype = np.int16)\n",
    "buffer1 = allocate(shape=(data_point_size*2,), dtype = np.int16)"
   ]
  },
  {
   "cell_type": "code",
   "execution_count": 9,
   "id": "27f61baa",
   "metadata": {
    "extensions": {
     "jupyter_dashboards": {
      "activeView": "grid_default",
      "views": {
       "grid_default": {
        "col": null,
        "height": 2,
        "hidden": true,
        "row": null,
        "width": 2
       }
      }
     }
    }
   },
   "outputs": [],
   "source": [
    "dma0.recvchannel.transfer(buffer0)\n",
    "dma1.recvchannel.transfer(buffer1)"
   ]
  },
  {
   "cell_type": "code",
   "execution_count": 10,
   "id": "d42eceac-011c-4a17-b55d-a31f1f895863",
   "metadata": {
    "extensions": {
     "jupyter_dashboards": {
      "activeView": "grid_default",
      "views": {
       "grid_default": {
        "col": null,
        "height": 2,
        "hidden": true,
        "row": null,
        "width": 2
       }
      }
     }
    }
   },
   "outputs": [
    {
     "data": {
      "text/plain": [
       "False"
      ]
     },
     "execution_count": 10,
     "metadata": {},
     "output_type": "execute_result"
    }
   ],
   "source": [
    "dma0.recvchannel.idle\n",
    "dma1.recvchannel.idle"
   ]
  },
  {
   "cell_type": "markdown",
   "id": "ac36919e",
   "metadata": {
    "extensions": {
     "jupyter_dashboards": {
      "activeView": "grid_default",
      "views": {
       "grid_default": {
        "col": null,
        "height": 2,
        "hidden": true,
        "row": null,
        "width": 2
       }
      }
     }
    }
   },
   "source": [
    "### PACK"
   ]
  },
  {
   "cell_type": "code",
   "execution_count": 11,
   "id": "dc434fb9",
   "metadata": {
    "extensions": {
     "jupyter_dashboards": {
      "activeView": "grid_default",
      "views": {
       "grid_default": {
        "col": null,
        "height": 2,
        "hidden": true,
        "row": null,
        "width": 2
       }
      }
     }
    }
   },
   "outputs": [],
   "source": [
    "mmio1.write(0x4, data_point_size)\n",
    "mmio1.write(0x8, data_point_size)\n",
    "mmio1.write(0x0, 0)\n",
    "mmio1.write(0x0, 1) #Start capture data from ADC\n",
    "mmio1.write(0x0, 0)"
   ]
  },
  {
   "cell_type": "code",
   "execution_count": 12,
   "id": "3f12a271",
   "metadata": {
    "extensions": {
     "jupyter_dashboards": {
      "activeView": "grid_default",
      "views": {
       "grid_default": {
        "col": null,
        "height": 2,
        "hidden": true,
        "row": null,
        "width": 2
       }
      }
     }
    }
   },
   "outputs": [
    {
     "data": {
      "text/plain": [
       "True"
      ]
     },
     "execution_count": 12,
     "metadata": {},
     "output_type": "execute_result"
    }
   ],
   "source": [
    "dma0.recvchannel.idle\n",
    "dma1.recvchannel.idle"
   ]
  },
  {
   "cell_type": "code",
   "execution_count": 13,
   "id": "cf5dea73-ce86-4266-bb54-0df2e08f7afc",
   "metadata": {},
   "outputs": [],
   "source": [
    "channel1_data_i = [0]*len(buffer0)\n",
    "channel1_data_q = [0]*len(buffer0)\n",
    "for i in range(0, len(buffer0)):\n",
    "        if (i%2) == 0:\n",
    "            channel1_data_i[i >> 1] = buffer0[i]\n",
    "        else:\n",
    "            channel1_data_q[(i-1) >> 1] = buffer0[i]"
   ]
  },
  {
   "cell_type": "code",
   "execution_count": 14,
   "id": "1728e697-b388-4e26-9571-1579e91eee9d",
   "metadata": {},
   "outputs": [
    {
     "data": {
      "text/plain": [
       "[<matplotlib.lines.Line2D at 0xffff6e0c52b0>]"
      ]
     },
     "execution_count": 14,
     "metadata": {},
     "output_type": "execute_result"
    },
    {
     "data": {
      "image/png": "[encoded data removed]",
      "text/plain": [
       "<Figure size 432x288 with 1 Axes>"
      ]
     },
     "metadata": {
      "needs_background": "light"
     },
     "output_type": "display_data"
    }
   ],
   "source": [
    "plt.plot(channel1_data_i[0:100])"
   ]
  },
  {
   "cell_type": "code",
   "execution_count": 15,
   "id": "f4f9566a-776d-4621-a8a5-2ad3bb03eb0c",
   "metadata": {},
   "outputs": [
    {
     "data": {
      "text/plain": [
       "[<matplotlib.lines.Line2D at 0xffff6e03a6d0>]"
      ]
     },
     "execution_count": 15,
     "metadata": {},
     "output_type": "execute_result"
    },
    {
     "data": {
      "image/png": "[encoded data removed]",
      "text/plain": [
       "<Figure size 432x288 with 1 Axes>"
      ]
     },
     "metadata": {
      "needs_background": "light"
     },
     "output_type": "display_data"
    }
   ],
   "source": [
    "plt.plot(channel1_data_q[0:100])"
   ]
  },
  {
   "cell_type": "code",
   "execution_count": 16,
   "id": "adc65115-6e92-42c6-93f0-6d13a942030e",
   "metadata": {},
   "outputs": [
    {
     "data": {
      "text/plain": [
       "[<matplotlib.lines.Line2D at 0xffff6df96e20>]"
      ]
     },
     "execution_count": 16,
     "metadata": {},
     "output_type": "execute_result"
    },
    {
     "data": {
      "image/png": "[encoded data removed]",
      "text/plain": [
       "<Figure size 432x288 with 1 Axes>"
      ]
     },
     "metadata": {
      "needs_background": "light"
     },
     "output_type": "display_data"
    }
   ],
   "source": [
    "# switch to FFT\n",
    "switch0.write(0x40,2)\n",
    "switch0.write(0x44,0)\n",
    "switch0.write(0x48,1)\n",
    "switch0.write(0x00,2)\n",
    "\n",
    "switch1.write(0x40,2)\n",
    "switch1.write(0x44,0)\n",
    "switch1.write(0x48,1)\n",
    "switch1.write(0x00,2)\n",
    "\n",
    "dma0.recvchannel.transfer(buffer0)\n",
    "dma1.recvchannel.transfer(buffer1)\n",
    "\n",
    "mmio1.write(0x4, 1024)\n",
    "mmio1.write(0x8, 1024)\n",
    "mmio1.write(0x0, 0)\n",
    "mmio1.write(0x0, 1)\n",
    "mmio1.write(0x0, 0)\n",
    "\n",
    "plt.plot(np.abs(buffer0))"
   ]
  },
  {
   "cell_type": "code",
   "execution_count": 17,
   "id": "e9ad7791-d39c-4852-b3dd-f89d1eae28b7",
   "metadata": {},
   "outputs": [
    {
     "data": {
      "text/plain": [
       "[<matplotlib.lines.Line2D at 0xffff6df6b8e0>]"
      ]
     },
     "execution_count": 17,
     "metadata": {},
     "output_type": "execute_result"
    },
    {
     "data": {
      "image/png": "[encoded data removed]",
      "text/plain": [
       "<Figure size 432x288 with 1 Axes>"
      ]
     },
     "metadata": {
      "needs_background": "light"
     },
     "output_type": "display_data"
    }
   ],
   "source": [
    "plt.plot(np.abs(buffer1))"
   ]
  },
  {
   "cell_type": "code",
   "execution_count": null,
   "id": "841027af-b407-4060-ab0b-a96ba3b70eda",
   "metadata": {
    "extensions": {
     "jupyter_dashboards": {
      "activeView": "grid_default",
      "views": {
       "grid_default": {
        "col": null,
        "height": 2,
        "hidden": true,
        "row": null,
        "width": 2
       }
      }
     }
    }
   },
   "outputs": [],
   "source": [
    "ol.free()"
   ]
  },
  {
   "cell_type": "code",
   "execution_count": null,
   "id": "59ce9a1c-0f3c-481d-a075-97878b977aa6",
   "metadata": {},
   "outputs": [],
   "source": []
  }
 ],
 "metadata": {
  "extensions": {
   "jupyter_dashboards": {
    "activeView": "grid_default",
    "version": 1,
    "views": {
     "grid_default": {
      "cellMargin": 2,
      "defaultCellHeight": 60,
      "maxColumns": 12,
      "name": "grid",
      "type": "grid"
     }
    }
   }
  },
  "kernelspec": {
   "display_name": "Python 3",
   "language": "python",
   "name": "python3"
  },
  "language_info": {
   "codemirror_mode": {
    "name": "ipython",
    "version": 3
   },
   "file_extension": ".py",
   "mimetype": "text/x-python",
   "name": "python",
   "nbconvert_exporter": "python",
   "pygments_lexer": "ipython3",
   "version": "3.8.2"
  }
 },
 "nbformat": 4,
 "nbformat_minor": 5
}
